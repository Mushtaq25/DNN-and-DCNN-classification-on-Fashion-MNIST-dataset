{
  "cells": [
    {
      "cell_type": "markdown",
      "source": [
        "# Name - Mushtaq K Islam\n",
        "##RollNo - 2102025"
      ],
      "metadata": {
        "id": "_QA8gPawy7XU"
      }
    },
    {
      "cell_type": "markdown",
      "source": [
        "Implement backpropagation algorithm to train the network using the given digit dataset\n",
        "and evaluate the training accuracy. The dataset file contains matrix X which is a training\n",
        "data and size of the matrix is 5000 × 400. Each row represents a digit (ie. dimension of\n",
        "digit image is 20 × 20) and there are 5000 samples to train, corresponding labels are given\n",
        "in the vector y.\n",
        "This network contains inputs, hidden layer and output layer. Number of neurons in the\n",
        "input layer is 400+1, number of neurons in hidden layer is 25+1 and output layer contains\n",
        "10 neurons. You can use sigmoid function for the activation."
      ],
      "metadata": {
        "id": "yThRIpPPzTFe"
      }
    },
    {
      "cell_type": "markdown",
      "metadata": {
        "id": "QTPWNZz39Tdb"
      },
      "source": [
        "### importing libraries\n"
      ]
    },
    {
      "cell_type": "code",
      "execution_count": null,
      "metadata": {
        "id": "u8YW7tSI1AAq"
      },
      "outputs": [],
      "source": [
        "import pandas as pd\n",
        "import matplotlib.pyplot as plt\n",
        "import seaborn as sns\n",
        "import numpy as np\n",
        "\n",
        "from scipy.io import loadmat"
      ]
    },
    {
      "cell_type": "markdown",
      "metadata": {
        "id": "omoaTP649anN"
      },
      "source": [
        "### loading the ([dot]*mat* *file* )"
      ]
    },
    {
      "cell_type": "code",
      "execution_count": null,
      "metadata": {
        "colab": {
          "base_uri": "https://localhost:8080/"
        },
        "id": "sTM-OxGF1LOD",
        "outputId": "4082b7c3-0dc9-4c6f-8f4d-52535bbf35c9"
      },
      "outputs": [
        {
          "data": {
            "text/plain": [
              "{'X': array([[0., 0., 0., ..., 0., 0., 0.],\n",
              "        [0., 0., 0., ..., 0., 0., 0.],\n",
              "        [0., 0., 0., ..., 0., 0., 0.],\n",
              "        ...,\n",
              "        [0., 0., 0., ..., 0., 0., 0.],\n",
              "        [0., 0., 0., ..., 0., 0., 0.],\n",
              "        [0., 0., 0., ..., 0., 0., 0.]]),\n",
              " '__globals__': [],\n",
              " '__header__': b'MATLAB 5.0 MAT-file, Platform: GLNXA64, Created on: Sun Oct 16 13:09:09 2011',\n",
              " '__version__': '1.0',\n",
              " 'y': array([[10],\n",
              "        [10],\n",
              "        [10],\n",
              "        ...,\n",
              "        [ 9],\n",
              "        [ 9],\n",
              "        [ 9]], dtype=uint8)}"
            ]
          },
          "execution_count": 6,
          "metadata": {},
          "output_type": "execute_result"
        }
      ],
      "source": [
        "data_mat = loadmat('/content/drive/MyDrive/MachineLearning/assignment10/ex4data1.mat')\n",
        "data_mat "
      ]
    },
    {
      "cell_type": "code",
      "execution_count": null,
      "metadata": {
        "colab": {
          "base_uri": "https://localhost:8080/"
        },
        "id": "eksMjKbM5-ee",
        "outputId": "85309a2e-1ee4-4ac4-c0b0-e1a54b18ff70"
      },
      "outputs": [
        {
          "data": {
            "text/plain": [
              "((5000, 400), numpy.ndarray)"
            ]
          },
          "execution_count": 23,
          "metadata": {},
          "output_type": "execute_result"
        }
      ],
      "source": [
        "data_mat['X'].shape , type(data_mat['X'])"
      ]
    },
    {
      "cell_type": "code",
      "execution_count": null,
      "metadata": {
        "id": "bjZVN2Co6N3U"
      },
      "outputs": [],
      "source": [
        "images = data_mat['X']\n",
        "label = data_mat['y']"
      ]
    },
    {
      "cell_type": "markdown",
      "metadata": {
        "id": "w9q0eCn5rq5W"
      },
      "source": [
        "## Checking the first image"
      ]
    },
    {
      "cell_type": "code",
      "execution_count": null,
      "metadata": {
        "colab": {
          "base_uri": "https://localhost:8080/"
        },
        "id": "IGLM9vKl6mmF",
        "outputId": "49b7b0ca-09f8-40ad-8608-0f597dcd9de1"
      },
      "outputs": [
        {
          "data": {
            "text/plain": [
              "array([ 0.00000000e+00,  0.00000000e+00,  0.00000000e+00,  0.00000000e+00,\n",
              "        0.00000000e+00,  0.00000000e+00,  0.00000000e+00,  0.00000000e+00,\n",
              "        0.00000000e+00,  0.00000000e+00,  0.00000000e+00,  0.00000000e+00,\n",
              "        0.00000000e+00,  0.00000000e+00,  0.00000000e+00,  0.00000000e+00,\n",
              "        0.00000000e+00,  0.00000000e+00,  0.00000000e+00,  0.00000000e+00,\n",
              "        0.00000000e+00,  0.00000000e+00,  0.00000000e+00,  0.00000000e+00,\n",
              "        0.00000000e+00,  0.00000000e+00,  0.00000000e+00,  0.00000000e+00,\n",
              "        0.00000000e+00,  0.00000000e+00,  0.00000000e+00,  0.00000000e+00,\n",
              "        0.00000000e+00,  0.00000000e+00,  0.00000000e+00,  0.00000000e+00,\n",
              "        0.00000000e+00,  0.00000000e+00,  0.00000000e+00,  0.00000000e+00,\n",
              "        0.00000000e+00,  0.00000000e+00,  0.00000000e+00,  0.00000000e+00,\n",
              "        0.00000000e+00,  0.00000000e+00,  0.00000000e+00,  0.00000000e+00,\n",
              "        0.00000000e+00,  0.00000000e+00,  0.00000000e+00,  0.00000000e+00,\n",
              "        0.00000000e+00,  0.00000000e+00,  0.00000000e+00,  0.00000000e+00,\n",
              "        0.00000000e+00,  0.00000000e+00,  0.00000000e+00,  0.00000000e+00,\n",
              "        0.00000000e+00,  0.00000000e+00,  0.00000000e+00,  0.00000000e+00,\n",
              "        0.00000000e+00,  0.00000000e+00,  0.00000000e+00,  8.56059680e-06,\n",
              "        1.94035948e-06, -7.37438725e-04, -8.13403799e-03, -1.86104473e-02,\n",
              "       -1.87412865e-02, -1.87572508e-02, -1.90963542e-02, -1.64039011e-02,\n",
              "       -3.78191381e-03,  3.30347316e-04,  1.27655229e-05,  0.00000000e+00,\n",
              "        0.00000000e+00,  0.00000000e+00,  0.00000000e+00,  0.00000000e+00,\n",
              "        0.00000000e+00,  0.00000000e+00,  1.16421569e-04,  1.20052179e-04,\n",
              "       -1.40444581e-02, -2.84542484e-02,  8.03826593e-02,  2.66540339e-01,\n",
              "        2.73853746e-01,  2.78729541e-01,  2.74293607e-01,  2.24676403e-01,\n",
              "        2.77562977e-02, -7.06315478e-03,  2.34715414e-04,  0.00000000e+00,\n",
              "        0.00000000e+00,  0.00000000e+00,  0.00000000e+00,  0.00000000e+00,\n",
              "        0.00000000e+00,  1.28335523e-17, -3.26286765e-04, -1.38651604e-02,\n",
              "        8.15651552e-02,  3.82800381e-01,  8.57849775e-01,  1.00109761e+00,\n",
              "        9.69710638e-01,  9.30928598e-01,  1.00383757e+00,  9.64157356e-01,\n",
              "        4.49256553e-01, -5.60408259e-03, -3.78319036e-03,  0.00000000e+00,\n",
              "        0.00000000e+00,  0.00000000e+00,  0.00000000e+00,  5.10620915e-06,\n",
              "        4.36410675e-04, -3.95509940e-03, -2.68537241e-02,  1.00755014e-01,\n",
              "        6.42031710e-01,  1.03136838e+00,  8.50968614e-01,  5.43122379e-01,\n",
              "        3.42599738e-01,  2.68918777e-01,  6.68374643e-01,  1.01256958e+00,\n",
              "        9.03795598e-01,  1.04481574e-01, -1.66424973e-02,  0.00000000e+00,\n",
              "        0.00000000e+00,  0.00000000e+00,  0.00000000e+00,  2.59875260e-05,\n",
              "       -3.10606987e-03,  7.52456076e-03,  1.77539831e-01,  7.92890120e-01,\n",
              "        9.65626503e-01,  4.63166079e-01,  6.91720680e-02, -3.64100526e-03,\n",
              "       -4.12180405e-02, -5.01900656e-02,  1.56102907e-01,  9.01762651e-01,\n",
              "        1.04748346e+00,  1.51055252e-01, -2.16044665e-02,  0.00000000e+00,\n",
              "        0.00000000e+00,  0.00000000e+00,  5.87012352e-05, -6.40931373e-04,\n",
              "       -3.23305249e-02,  2.78203465e-01,  9.36720163e-01,  1.04320956e+00,\n",
              "        5.98003217e-01, -3.59409041e-03, -2.16751770e-02, -4.81021923e-03,\n",
              "        6.16566793e-05, -1.23773318e-02,  1.55477482e-01,  9.14867477e-01,\n",
              "        9.20401348e-01,  1.09173902e-01, -1.71058007e-02,  0.00000000e+00,\n",
              "        0.00000000e+00,  1.56250000e-04, -4.27724104e-04, -2.51466503e-02,\n",
              "        1.30532561e-01,  7.81664862e-01,  1.02836583e+00,  7.57137601e-01,\n",
              "        2.84667194e-01,  4.86865128e-03, -3.18688725e-03,  0.00000000e+00,\n",
              "        8.36492601e-04, -3.70751123e-02,  4.52644165e-01,  1.03180133e+00,\n",
              "        5.39028101e-01, -2.43742611e-03, -4.80290033e-03,  0.00000000e+00,\n",
              "        0.00000000e+00, -7.03635621e-04, -1.27262443e-02,  1.61706648e-01,\n",
              "        7.79865383e-01,  1.03676705e+00,  8.04490400e-01,  1.60586724e-01,\n",
              "       -1.38173339e-02,  2.14879493e-03, -2.12622549e-04,  2.04248366e-04,\n",
              "       -6.85907627e-03,  4.31712963e-04,  7.20680947e-01,  8.48136063e-01,\n",
              "        1.51383408e-01, -2.28404366e-02,  1.98971950e-04,  0.00000000e+00,\n",
              "        0.00000000e+00, -9.40410539e-03,  3.74520505e-02,  6.94389110e-01,\n",
              "        1.02844844e+00,  1.01648066e+00,  8.80488426e-01,  3.92123945e-01,\n",
              "       -1.74122413e-02, -1.20098039e-04,  5.55215142e-05, -2.23907271e-03,\n",
              "       -2.76068376e-02,  3.68645493e-01,  9.36411169e-01,  4.59006723e-01,\n",
              "       -4.24701797e-02,  1.17356610e-03,  1.88929739e-05,  0.00000000e+00,\n",
              "        0.00000000e+00, -1.93511951e-02,  1.29999794e-01,  9.79821705e-01,\n",
              "        9.41862388e-01,  7.75147704e-01,  8.73632241e-01,  2.12778350e-01,\n",
              "       -1.72353349e-02,  0.00000000e+00,  1.09937426e-03, -2.61793751e-02,\n",
              "        1.22872879e-01,  8.30812662e-01,  7.26501773e-01,  5.24441863e-02,\n",
              "       -6.18971913e-03,  0.00000000e+00,  0.00000000e+00,  0.00000000e+00,\n",
              "        0.00000000e+00, -9.36563862e-03,  3.68349741e-02,  6.99079299e-01,\n",
              "        1.00293583e+00,  6.05704402e-01,  3.27299224e-01, -3.22099249e-02,\n",
              "       -4.83053002e-02, -4.34069138e-02, -5.75151144e-02,  9.55674190e-02,\n",
              "        7.26512627e-01,  6.95366966e-01,  1.47114481e-01, -1.20048679e-02,\n",
              "       -3.02798203e-04,  0.00000000e+00,  0.00000000e+00,  0.00000000e+00,\n",
              "        0.00000000e+00, -6.76572712e-04, -6.51415556e-03,  1.17339359e-01,\n",
              "        4.21948410e-01,  9.93210937e-01,  8.82013974e-01,  7.45758734e-01,\n",
              "        7.23874268e-01,  7.23341725e-01,  7.20020340e-01,  8.45324959e-01,\n",
              "        8.31859739e-01,  6.88831870e-02, -2.77765012e-02,  3.59136710e-04,\n",
              "        7.14869281e-05,  0.00000000e+00,  0.00000000e+00,  0.00000000e+00,\n",
              "        0.00000000e+00,  1.53186275e-04,  3.17353553e-04, -2.29167177e-02,\n",
              "       -4.14402914e-03,  3.87038450e-01,  5.04583435e-01,  7.74885876e-01,\n",
              "        9.90037446e-01,  1.00769478e+00,  1.00851440e+00,  7.37905042e-01,\n",
              "        2.15455291e-01, -2.69624864e-02,  1.32506127e-03,  0.00000000e+00,\n",
              "        0.00000000e+00,  0.00000000e+00,  0.00000000e+00,  0.00000000e+00,\n",
              "        0.00000000e+00,  0.00000000e+00,  0.00000000e+00,  2.36366422e-04,\n",
              "       -2.26031454e-03, -2.51994485e-02, -3.73889910e-02,  6.62121228e-02,\n",
              "        2.91134498e-01,  3.23055726e-01,  3.06260315e-01,  8.76070942e-02,\n",
              "       -2.50581917e-02,  2.37438725e-04,  0.00000000e+00,  0.00000000e+00,\n",
              "        0.00000000e+00,  0.00000000e+00,  0.00000000e+00,  0.00000000e+00,\n",
              "        0.00000000e+00,  0.00000000e+00,  0.00000000e+00,  0.00000000e+00,\n",
              "        0.00000000e+00,  6.20939216e-18,  6.72618320e-04, -1.13151411e-02,\n",
              "       -3.54641066e-02, -3.88214912e-02, -3.71077412e-02, -1.33524928e-02,\n",
              "        9.90964718e-04,  4.89176960e-05,  0.00000000e+00,  0.00000000e+00,\n",
              "        0.00000000e+00,  0.00000000e+00,  0.00000000e+00,  0.00000000e+00,\n",
              "        0.00000000e+00,  0.00000000e+00,  0.00000000e+00,  0.00000000e+00,\n",
              "        0.00000000e+00,  0.00000000e+00,  0.00000000e+00,  0.00000000e+00,\n",
              "        0.00000000e+00,  0.00000000e+00,  0.00000000e+00,  0.00000000e+00,\n",
              "        0.00000000e+00,  0.00000000e+00,  0.00000000e+00,  0.00000000e+00,\n",
              "        0.00000000e+00,  0.00000000e+00,  0.00000000e+00,  0.00000000e+00,\n",
              "        0.00000000e+00,  0.00000000e+00,  0.00000000e+00,  0.00000000e+00,\n",
              "        0.00000000e+00,  0.00000000e+00,  0.00000000e+00,  0.00000000e+00,\n",
              "        0.00000000e+00,  0.00000000e+00,  0.00000000e+00,  0.00000000e+00,\n",
              "        0.00000000e+00,  0.00000000e+00,  0.00000000e+00,  0.00000000e+00,\n",
              "        0.00000000e+00,  0.00000000e+00,  0.00000000e+00,  0.00000000e+00])"
            ]
          },
          "execution_count": 33,
          "metadata": {},
          "output_type": "execute_result"
        }
      ],
      "source": [
        "images[0]"
      ]
    },
    {
      "cell_type": "code",
      "execution_count": null,
      "metadata": {
        "colab": {
          "base_uri": "https://localhost:8080/"
        },
        "id": "e8P1iDFq7cVX",
        "outputId": "d16e6eec-1304-4d71-defe-42a0e45941e0"
      },
      "outputs": [
        {
          "data": {
            "text/plain": [
              "(400,)"
            ]
          },
          "execution_count": 38,
          "metadata": {},
          "output_type": "execute_result"
        }
      ],
      "source": [
        "# \n",
        "# type(images[0])\n",
        "images[0].shape"
      ]
    },
    {
      "cell_type": "code",
      "execution_count": null,
      "metadata": {
        "id": "zEwTMiYO8xX3"
      },
      "outputs": [],
      "source": [
        "img1 = images[0].reshape(20,20)"
      ]
    },
    {
      "cell_type": "code",
      "execution_count": null,
      "metadata": {
        "colab": {
          "base_uri": "https://localhost:8080/"
        },
        "id": "Nu-HxyRt83ic",
        "outputId": "0e26a7b5-4cf0-4d0d-e61d-24536c472b8e"
      },
      "outputs": [
        {
          "data": {
            "text/plain": [
              "(20, 20)"
            ]
          },
          "execution_count": 88,
          "metadata": {},
          "output_type": "execute_result"
        }
      ],
      "source": [
        "img1.shape"
      ]
    },
    {
      "cell_type": "code",
      "execution_count": null,
      "metadata": {
        "colab": {
          "base_uri": "https://localhost:8080/",
          "height": 282
        },
        "id": "t9SFlbmq88yt",
        "outputId": "d8462313-c882-45f9-9672-d5adfc297d93"
      },
      "outputs": [
        {
          "data": {
            "text/plain": [
              "<matplotlib.image.AxesImage at 0x7f88777ee5d0>"
            ]
          },
          "execution_count": 89,
          "metadata": {},
          "output_type": "execute_result"
        },
        {
          "data": {
            "image/png": "[encoded data removed]",
            "text/plain": [
              "<Figure size 432x288 with 1 Axes>"
            ]
          },
          "metadata": {},
          "output_type": "display_data"
        }
      ],
      "source": [
        "plt.imshow(img1,cmap='gray')"
      ]
    },
    {
      "cell_type": "markdown",
      "metadata": {
        "id": "fVMGluprr7hr"
      },
      "source": [
        "## Initialisation of learning rate, epochs, neurons in hidden layer, neurons in output layer\n",
        "\n",
        "<img class=\"XqHOTb IGEbUc\" alt=\"S(x)= \\frac {1}{1+e^{-x}}\" src=\"https://www.yourdatateacher.com/wp-content/uploads/2021/04/neural-network.png\" role=\"img\" data-atf=\"0\" data-frt=\"0\" Width='500' Height='200'>"
      ]
    },
    {
      "cell_type": "code",
      "execution_count": null,
      "metadata": {
        "id": "XidzXPGI3Oix"
      },
      "outputs": [],
      "source": [
        "# Initialize variables\n",
        "learning_rate = 0.1\n",
        "epochs = 7500\n",
        "N = label.size\n",
        "\n",
        "# number of input features\n",
        "input_size = 400\n",
        "\n",
        "# number of hidden layers neurons\n",
        "hidden_size = 25\n",
        "\n",
        "# number of neurons at the output layer\n",
        "output_size = 10  \n",
        "\n",
        "results = pd.DataFrame(columns=[\"mse\", \"accuracy\"])"
      ]
    },
    {
      "cell_type": "markdown",
      "metadata": {
        "id": "7FZqeDWQ9RpB"
      },
      "source": [
        "## Creating the Hidden and Output Layer"
      ]
    },
    {
      "cell_type": "code",
      "execution_count": null,
      "metadata": {
        "id": "XirfNmjK3jzX"
      },
      "outputs": [],
      "source": [
        "# Initialize weights\n",
        "np.random.seed(10)\n",
        "\n",
        "# initializing weight for the hidden layer\n",
        "W1 = np.random.normal(scale=0.5, size=(input_size, hidden_size))   \n",
        "\n",
        "# initializing weight for the output layer\n",
        "W2 = np.random.normal(scale=0.5, size=(hidden_size , output_size)) "
      ]
    },
    {
      "cell_type": "code",
      "execution_count": null,
      "metadata": {
        "colab": {
          "base_uri": "https://localhost:8080/"
        },
        "id": "Qe7SrmcE5dBA",
        "outputId": "5720489c-fb50-421e-cb17-56fa65ea4318"
      },
      "outputs": [
        {
          "data": {
            "text/plain": [
              "((400, 25), (25, 10))"
            ]
          },
          "execution_count": 98,
          "metadata": {},
          "output_type": "execute_result"
        }
      ],
      "source": [
        "W1.shape, W2.shape"
      ]
    },
    {
      "cell_type": "markdown",
      "metadata": {
        "id": "HlkvRzSY1KP-"
      },
      "source": [
        "## Defining the Sigmoid Function\n",
        "<img class=\"XqHOTb IGEbUc\" alt=\"S(x)= \\frac {1}{1+e^{-x}}\" src=\"https://www.gstatic.com/education/formulas2/397133473/en/sigmoid_function.svg\" role=\"img\" data-atf=\"0\" data-frt=\"0\">"
      ]
    },
    {
      "cell_type": "code",
      "execution_count": null,
      "metadata": {
        "id": "3KWNH_csCbzm"
      },
      "outputs": [],
      "source": [
        "def sigmoid(x):\n",
        "    return 1 / (1 + np.exp(-x))\n",
        "\n",
        "def mean_squared_error(y_pred, y_true):\n",
        "    return ((y_pred - y_true)**2).sum() / (2*y_pred.size)\n",
        "    \n",
        "def accuracy(y_pred, y_true):\n",
        "    acc = y_pred.argmax(axis=1) == y_true.argmax(axis=1)\n",
        "    return acc.mean()"
      ]
    },
    {
      "cell_type": "code",
      "execution_count": null,
      "metadata": {
        "id": "qnK78EEBDbUG"
      },
      "outputs": [],
      "source": [
        "epochs = 2 * epochs\n",
        "for itr in range(epochs):    \n",
        "    \n",
        "    # feedforward propagation\n",
        "    # on hidden layer\n",
        "    Z1 = np.dot(images, W1)\n",
        "    A1 = sigmoid(Z1)\n",
        "\n",
        "    # on output layer\n",
        "    Z2 = np.dot(A1, W2)\n",
        "    A2 = sigmoid(Z2)\n",
        "    \n",
        "    \n",
        "    # Calculating error\n",
        "    mse = mean_squared_error(A2, label)\n",
        "    acc = accuracy(A2, label)\n",
        "    results=results.append({\"mse\":mse, \"accuracy\":acc},ignore_index=True )\n",
        "    \n",
        "    # backpropagation\n",
        "    E1 = A2 - label\n",
        "    dW1 = E1 * A2 * (1 - A2)\n",
        "\n",
        "    E2 = np.dot(dW1, W2.T)\n",
        "    dW2 = E2 * A1 * (1 - A1)\n",
        "\n",
        "    \n",
        "    # weight updates\n",
        "    W2_update = np.dot(A1.T, dW1) / N\n",
        "    W1_update = np.dot(images.T, dW2) / N\n",
        "\n",
        "    W2 = W2 - learning_rate * W2_update\n",
        "    W1 = W1 - learning_rate * W1_update"
      ]
    },
    {
      "cell_type": "code",
      "execution_count": null,
      "metadata": {
        "id": "CGtnXaFgm8-S"
      },
      "outputs": [],
      "source": [
        ""
      ]
    },
    {
      "cell_type": "code",
      "execution_count": null,
      "metadata": {
        "colab": {
          "base_uri": "https://localhost:8080/",
          "height": 298
        },
        "id": "CQIzAvyDDwm9",
        "outputId": "38a9cc01-5107-412b-da2c-0f867bf1f12e"
      },
      "outputs": [
        {
          "data": {
            "text/plain": [
              "<matplotlib.axes._subplots.AxesSubplot at 0x7f8877696b50>"
            ]
          },
          "execution_count": 104,
          "metadata": {},
          "output_type": "execute_result"
        },
        {
          "data": {
            "image/png": "[encoded data removed]",
            "text/plain": [
              "<Figure size 432x288 with 1 Axes>"
            ]
          },
          "metadata": {},
          "output_type": "display_data"
        }
      ],
      "source": [
        "results.mse.plot(title=\"Mean Squared Error\")"
      ]
    },
    {
      "cell_type": "code",
      "execution_count": null,
      "metadata": {
        "colab": {
          "base_uri": "https://localhost:8080/",
          "height": 298
        },
        "id": "TKX_gvYrFGgj",
        "outputId": "6dbc8a90-4c72-4bd2-fb3e-7b9ae7ceeef9"
      },
      "outputs": [
        {
          "data": {
            "text/plain": [
              "<matplotlib.axes._subplots.AxesSubplot at 0x7f88776282d0>"
            ]
          },
          "execution_count": 105,
          "metadata": {},
          "output_type": "execute_result"
        },
        {
          "data": {
            "image/png": "[encoded data removed]",
            "text/plain": [
              "<Figure size 432x288 with 1 Axes>"
            ]
          },
          "metadata": {},
          "output_type": "display_data"
        }
      ],
      "source": [
        "results.accuracy.plot(title=\"Accuracy\")"
      ]
    },
    {
      "cell_type": "code",
      "execution_count": null,
      "metadata": {
        "id": "b7sQTwXlFcGd"
      },
      "outputs": [],
      "source": [
        ""
      ]
    },
    {
      "cell_type": "markdown",
      "metadata": {
        "id": "81OjlEOivM1n"
      },
      "source": [
        "## Making Prediction <br>\n",
        "Taking the input of the image and feed forward to the network only one time and output the highest probability of the last 10 neuron"
      ]
    },
    {
      "cell_type": "code",
      "execution_count": null,
      "metadata": {
        "id": "18_KRvUewHY0"
      },
      "outputs": [],
      "source": [
        "class Model:\n",
        "  def __init__(self):\n",
        "    self.test_image = test_image\n",
        "\n",
        "  def predict(self,img):\n",
        "    HI_in_layer = np.dot(img, W1)\n",
        "    HI_out_layer = sigmoid(HI_in_layer)\n",
        "\n",
        "    out_in_layer = np.dot(HI_out_layer, W2)\n",
        "    out_out_layer = sigmoid(out_in_layer)\n",
        "\n",
        "    plt.imshow(img.reshape(20,20),cmap=\"gray\")\n",
        "    print(f\"Predicted digit = {np.argmax(out_out_layer)} \\n\")"
      ]
    },
    {
      "cell_type": "code",
      "execution_count": null,
      "metadata": {
        "colab": {
          "base_uri": "https://localhost:8080/",
          "height": 300
        },
        "id": "hBv5MfPMv5ng",
        "outputId": "bea7fbd1-3f14-4e74-eef6-906962e2de8e"
      },
      "outputs": [
        {
          "name": "stdout",
          "output_type": "stream",
          "text": [
            "Predicted digit = 3 \n",
            "\n"
          ]
        },
        {
          "data": {
            "image/png": "[encoded data removed]",
            "text/plain": [
              "<Figure size 432x288 with 1 Axes>"
            ]
          },
          "metadata": {},
          "output_type": "display_data"
        }
      ],
      "source": [
        "test_image = images[-1000]\n",
        "model = Model()\n",
        "model.predict(test_image)"
      ]
    },
    {
      "cell_type": "code",
      "execution_count": null,
      "metadata": {
        "id": "EYZKADlMFHIv"
      },
      "outputs": [],
      "source": [
        ""
      ]
    },
    {
      "cell_type": "markdown",
      "metadata": {
        "id": "kE5VP2Dz4IH8"
      },
      "source": [
        "# **Fashion** **MNIST** **Dataset**\n",
        "Q2. Write a python program to develop a DNN model with more than one hidden layer to\n",
        "classify the “Fashion MNIST dataset”. Please use the Keras/PyTorch framework (backend\n",
        "TensorFlow) to implement your code.\n",
        "Reference: https://www.tensorflow.org/tutorials/keras/classification"
      ]
    },
    {
      "cell_type": "code",
      "execution_count": 45,
      "metadata": {
        "colab": {
          "base_uri": "https://localhost:8080/"
        },
        "id": "7eR-Cb7D4Uib",
        "outputId": "d8c18622-c521-4b7f-fa36-23cd8c36f944"
      },
      "outputs": [
        {
          "output_type": "stream",
          "name": "stdout",
          "text": [
            "2.8.0\n"
          ]
        }
      ],
      "source": [
        "# TensorFlow and tf.keras\n",
        "import tensorflow as tf\n",
        "\n",
        "# Helper libraries\n",
        "import numpy as np\n",
        "import matplotlib.pyplot as plt\n",
        "\n",
        "print(tf.__version__)"
      ]
    },
    {
      "cell_type": "code",
      "execution_count": 46,
      "metadata": {
        "id": "pcT6YKok432o"
      },
      "outputs": [],
      "source": [
        "fashion_mnist = tf.keras.datasets.fashion_mnist\n",
        "\n",
        "(train_images, train_labels), (test_images, test_labels) = fashion_mnist.load_data()"
      ]
    },
    {
      "cell_type": "code",
      "execution_count": 47,
      "metadata": {
        "id": "lAvlGvGH99PU"
      },
      "outputs": [],
      "source": [
        "class_names = ['T-shirt/top', 'Trouser', 'Pullover', 'Dress', 'Coat',\n",
        "               'Sandal', 'Shirt', 'Sneaker', 'Bag', 'Ankle boot']"
      ]
    },
    {
      "cell_type": "code",
      "execution_count": 48,
      "metadata": {
        "colab": {
          "base_uri": "https://localhost:8080/",
          "height": 265
        },
        "id": "tX20NGQe-Cca",
        "outputId": "46aa327e-7820-45d2-b965-478e18bfd223"
      },
      "outputs": [
        {
          "output_type": "display_data",
          "data": {
            "text/plain": [
              "<Figure size 432x288 with 2 Axes>"
            ],
            "image/png": "[encoded data removed]"
          },
          "metadata": {
            "needs_background": "light"
          }
        }
      ],
      "source": [
        "plt.figure()\n",
        "plt.imshow(train_images[0])\n",
        "plt.colorbar()\n",
        "plt.grid(False)\n",
        "plt.show()"
      ]
    },
    {
      "cell_type": "code",
      "execution_count": 49,
      "metadata": {
        "id": "yLmVd0d4-GNH"
      },
      "outputs": [],
      "source": [
        "train_images = train_images / 255.0\n",
        "\n",
        "test_images = test_images / 255.0"
      ]
    },
    {
      "cell_type": "code",
      "execution_count": 50,
      "metadata": {
        "colab": {
          "base_uri": "https://localhost:8080/",
          "height": 589
        },
        "id": "_cp2QmPU-OBf",
        "outputId": "d8174d98-f77a-4b0d-d1b9-c57a4e5529b2"
      },
      "outputs": [
        {
          "output_type": "display_data",
          "data": {
            "text/plain": [
              "<Figure size 720x720 with 25 Axes>"
            ],
            "image/png": "[encoded data removed]"
          },
          "metadata": {}
        }
      ],
      "source": [
        "plt.figure(figsize=(10,10))\n",
        "for i in range(25):\n",
        "    plt.subplot(5,5,i+1)\n",
        "    plt.xticks([])\n",
        "    plt.yticks([])\n",
        "    plt.grid(False)\n",
        "    plt.imshow(train_images[i], cmap=plt.cm.binary)\n",
        "    plt.xlabel(class_names[train_labels[i]])\n",
        "plt.show()"
      ]
    },
    {
      "cell_type": "code",
      "execution_count": 51,
      "metadata": {
        "id": "z1R9lFGw-QG7"
      },
      "outputs": [],
      "source": [
        "model = tf.keras.Sequential([\n",
        "    tf.keras.layers.Flatten(input_shape=(28, 28)),\n",
        "    tf.keras.layers.Dense(128, activation='relu'),\n",
        "    tf.keras.layers.Dense(128, activation='relu'),\n",
        "    tf.keras.layers.Dense(10)\n",
        "])"
      ]
    },
    {
      "cell_type": "code",
      "execution_count": 52,
      "metadata": {
        "id": "GdqHBCkq-URz"
      },
      "outputs": [],
      "source": [
        "model.compile(optimizer='adam',\n",
        "              loss=tf.keras.losses.SparseCategoricalCrossentropy(from_logits=True),\n",
        "              metrics=['accuracy'])"
      ]
    },
    {
      "cell_type": "code",
      "execution_count": 53,
      "metadata": {
        "colab": {
          "base_uri": "https://localhost:8080/"
        },
        "id": "p64W4wPy-WpD",
        "outputId": "e8b10bd4-ae2c-4eb3-e98c-603f0f4ce844"
      },
      "outputs": [
        {
          "output_type": "stream",
          "name": "stdout",
          "text": [
            "Epoch 1/10\n",
            "1875/1875 [==============================] - 6s 3ms/step - loss: 0.4873 - accuracy: 0.8252\n",
            "Epoch 2/10\n",
            "1875/1875 [==============================] - 5s 3ms/step - loss: 0.3620 - accuracy: 0.8663\n",
            "Epoch 3/10\n",
            "1875/1875 [==============================] - 5s 3ms/step - loss: 0.3233 - accuracy: 0.8792\n",
            "Epoch 4/10\n",
            "1875/1875 [==============================] - 5s 3ms/step - loss: 0.3033 - accuracy: 0.8879\n",
            "Epoch 5/10\n",
            "1875/1875 [==============================] - 5s 3ms/step - loss: 0.2863 - accuracy: 0.8926\n",
            "Epoch 6/10\n",
            "1875/1875 [==============================] - 8s 4ms/step - loss: 0.2710 - accuracy: 0.8981\n",
            "Epoch 7/10\n",
            "1875/1875 [==============================] - 7s 4ms/step - loss: 0.2587 - accuracy: 0.9020\n",
            "Epoch 8/10\n",
            "1875/1875 [==============================] - 9s 5ms/step - loss: 0.2485 - accuracy: 0.9058\n",
            "Epoch 9/10\n",
            "1875/1875 [==============================] - 9s 5ms/step - loss: 0.2379 - accuracy: 0.9100\n",
            "Epoch 10/10\n",
            "1875/1875 [==============================] - 8s 4ms/step - loss: 0.2299 - accuracy: 0.9137\n"
          ]
        },
        {
          "output_type": "execute_result",
          "data": {
            "text/plain": [
              "<keras.callbacks.History at 0x7f7c39b243d0>"
            ]
          },
          "metadata": {},
          "execution_count": 53
        }
      ],
      "source": [
        "model.fit(train_images, train_labels, epochs=10)"
      ]
    },
    {
      "cell_type": "code",
      "execution_count": 54,
      "metadata": {
        "colab": {
          "base_uri": "https://localhost:8080/"
        },
        "id": "1ZtS-qsj-ZUh",
        "outputId": "c21f3d11-552c-478d-93a2-11be37555a0c"
      },
      "outputs": [
        {
          "output_type": "stream",
          "name": "stdout",
          "text": [
            "313/313 - 1s - loss: 0.3402 - accuracy: 0.8844 - 1s/epoch - 4ms/step\n",
            "\n",
            "Test accuracy: 0.8844000101089478\n"
          ]
        }
      ],
      "source": [
        "test_loss, test_acc = model.evaluate(test_images,  test_labels, verbose=2)\n",
        "\n",
        "print('\\nTest accuracy:', test_acc)"
      ]
    },
    {
      "cell_type": "code",
      "execution_count": 55,
      "metadata": {
        "id": "cGbV2U0F-cnp"
      },
      "outputs": [],
      "source": [
        "probability_model = tf.keras.Sequential([model, \n",
        "                                         tf.keras.layers.Softmax()])"
      ]
    },
    {
      "cell_type": "code",
      "execution_count": 56,
      "metadata": {
        "id": "jrDP2Ibm-hfT"
      },
      "outputs": [],
      "source": [
        "predictions = probability_model.predict(test_images)"
      ]
    },
    {
      "cell_type": "code",
      "execution_count": 57,
      "metadata": {
        "colab": {
          "base_uri": "https://localhost:8080/"
        },
        "id": "Thjp7gSE-kEX",
        "outputId": "e8d81a57-91fe-4189-89b4-ca35f5e7a3e7"
      },
      "outputs": [
        {
          "output_type": "execute_result",
          "data": {
            "text/plain": [
              "array([1.1198003e-05, 1.2576951e-06, 2.0603824e-07, 2.9823374e-07,\n",
              "       8.0162044e-06, 1.1556988e-03, 9.4269035e-06, 1.2571203e-02,\n",
              "       7.5367234e-07, 9.8624194e-01], dtype=float32)"
            ]
          },
          "metadata": {},
          "execution_count": 57
        }
      ],
      "source": [
        "predictions[0]"
      ]
    },
    {
      "cell_type": "code",
      "execution_count": 58,
      "metadata": {
        "colab": {
          "base_uri": "https://localhost:8080/"
        },
        "id": "PTUE10hj-nXu",
        "outputId": "21443d60-342a-4faf-8b3c-593bc3008599"
      },
      "outputs": [
        {
          "output_type": "execute_result",
          "data": {
            "text/plain": [
              "9"
            ]
          },
          "metadata": {},
          "execution_count": 58
        }
      ],
      "source": [
        "np.argmax(predictions[0])"
      ]
    },
    {
      "cell_type": "code",
      "execution_count": 59,
      "metadata": {
        "id": "_swvlxXS-scX"
      },
      "outputs": [],
      "source": [
        "def plot_image(i, predictions_array, true_label, img):\n",
        "  true_label, img = true_label[i], img[i]\n",
        "  plt.grid(False)\n",
        "  plt.xticks([])\n",
        "  plt.yticks([])\n",
        "\n",
        "  plt.imshow(img, cmap=plt.cm.binary)\n",
        "\n",
        "  predicted_label = np.argmax(predictions_array)\n",
        "  if predicted_label == true_label:\n",
        "    color = 'blue'\n",
        "  else:\n",
        "    color = 'red'\n",
        "\n",
        "  plt.xlabel(\"{} {:2.0f}% ({})\".format(class_names[predicted_label],\n",
        "                                100*np.max(predictions_array),\n",
        "                                class_names[true_label]),\n",
        "                                color=color)\n",
        "\n",
        "def plot_value_array(i, predictions_array, true_label):\n",
        "  true_label = true_label[i]\n",
        "  plt.grid(False)\n",
        "  plt.xticks(range(10))\n",
        "  plt.yticks([])\n",
        "  thisplot = plt.bar(range(10), predictions_array, color=\"#777777\")\n",
        "  plt.ylim([0, 1])\n",
        "  predicted_label = np.argmax(predictions_array)\n",
        "\n",
        "  thisplot[predicted_label].set_color('red')\n",
        "  thisplot[true_label].set_color('blue')"
      ]
    },
    {
      "cell_type": "code",
      "execution_count": 60,
      "metadata": {
        "colab": {
          "base_uri": "https://localhost:8080/",
          "height": 211
        },
        "id": "DtRc62QB-wal",
        "outputId": "62c59e59-5ae6-4ebd-9593-63e1b47981eb"
      },
      "outputs": [
        {
          "output_type": "display_data",
          "data": {
            "text/plain": [
              "<Figure size 432x216 with 2 Axes>"
            ],
            "image/png": "[encoded data removed]"
          },
          "metadata": {
            "needs_background": "light"
          }
        }
      ],
      "source": [
        "i = 0\n",
        "plt.figure(figsize=(6,3))\n",
        "plt.subplot(1,2,1)\n",
        "plot_image(i, predictions[i], test_labels, test_images)\n",
        "plt.subplot(1,2,2)\n",
        "plot_value_array(i, predictions[i],  test_labels)\n",
        "plt.show()"
      ]
    },
    {
      "cell_type": "code",
      "source": [
        "pred = probability_model.predict(test_images)\n",
        "pred_test_img = [np.argmax(pred[i]) for i in range(len(pred))]\n"
      ],
      "metadata": {
        "id": "DEO2EXcrwlkD"
      },
      "execution_count": 67,
      "outputs": []
    },
    {
      "cell_type": "code",
      "source": [
        ""
      ],
      "metadata": {
        "id": "koAKOUK2w-Aw"
      },
      "execution_count": 78,
      "outputs": []
    },
    {
      "cell_type": "code",
      "source": [
        "from sklearn.metrics import confusion_matrix\n",
        "confusion_matrix(test_labels,pred_test_img)"
      ],
      "metadata": {
        "colab": {
          "base_uri": "https://localhost:8080/"
        },
        "id": "C3IU6Vpzv50H",
        "outputId": "331f2da9-fad1-4b17-9cea-dfc835dab02e"
      },
      "execution_count": 78,
      "outputs": [
        {
          "output_type": "execute_result",
          "data": {
            "text/plain": [
              "array([[878,   1,  12,  14,   8,   0,  81,   0,   6,   0],\n",
              "       [  5, 976,   1,  10,   4,   0,   3,   0,   1,   0],\n",
              "       [ 17,   1, 749,   8, 129,   0,  96,   0,   0,   0],\n",
              "       [ 34,  13,  11, 860,  58,   0,  21,   0,   3,   0],\n",
              "       [  2,   0,  68,  17, 838,   0,  75,   0,   0,   0],\n",
              "       [  0,   0,   1,   1,   0, 953,   0,  28,   1,  16],\n",
              "       [147,   0,  55,  20,  73,   0, 696,   0,   9,   0],\n",
              "       [  1,   0,   0,   0,   0,   7,   0, 971,   0,  21],\n",
              "       [  7,   0,   1,   5,   7,   2,   5,   3, 970,   0],\n",
              "       [  0,   0,   0,   1,   0,   6,   1,  39,   0, 953]])"
            ]
          },
          "metadata": {},
          "execution_count": 78
        }
      ]
    },
    {
      "cell_type": "markdown",
      "source": [
        "#Question3\n",
        "Using the above-mentioned dataset, develop a deep convolutional architecture (DCNN) to\n",
        "\n",
        "classify the images. Compare the results (in terms of confusion matrix) with the above-\n",
        "mentioned implementation. (Complete it once I finish CNN)."
      ],
      "metadata": {
        "id": "jRgOPzymbk_0"
      }
    },
    {
      "cell_type": "code",
      "execution_count": 19,
      "metadata": {
        "id": "0QYVRJ9--0EV"
      },
      "outputs": [],
      "source": [
        "import tensorflow as tf\n",
        "\n",
        "from tensorflow.keras import datasets, layers, models\n",
        "import matplotlib.pyplot as plt"
      ]
    },
    {
      "cell_type": "code",
      "source": [
        "fashion_mnist = tf.keras.datasets.fashion_mnist\n",
        "\n",
        "(train_images, train_labels), (test_images, test_labels) = fashion_mnist.load_data()"
      ],
      "metadata": {
        "id": "Nle9VzbM-BSL",
        "colab": {
          "base_uri": "https://localhost:8080/"
        },
        "outputId": "e21b6597-5b9e-453a-99bd-fb49add8e321"
      },
      "execution_count": null,
      "outputs": [
        {
          "output_type": "stream",
          "name": "stdout",
          "text": [
            "Downloading data from https://storage.googleapis.com/tensorflow/tf-keras-datasets/train-labels-idx1-ubyte.gz\n",
            "32768/29515 [=================================] - 0s 0us/step\n",
            "40960/29515 [=========================================] - 0s 0us/step\n",
            "Downloading data from https://storage.googleapis.com/tensorflow/tf-keras-datasets/train-images-idx3-ubyte.gz\n",
            "26427392/26421880 [==============================] - 1s 0us/step\n",
            "26435584/26421880 [==============================] - 1s 0us/step\n",
            "Downloading data from https://storage.googleapis.com/tensorflow/tf-keras-datasets/t10k-labels-idx1-ubyte.gz\n",
            "16384/5148 [===============================================================================================] - 0s 0us/step\n",
            "Downloading data from https://storage.googleapis.com/tensorflow/tf-keras-datasets/t10k-images-idx3-ubyte.gz\n",
            "4423680/4422102 [==============================] - 0s 0us/step\n",
            "4431872/4422102 [==============================] - 0s 0us/step\n"
          ]
        }
      ]
    },
    {
      "cell_type": "code",
      "source": [
        "train_images, test_images = train_images / 255.0, test_images / 255.0"
      ],
      "metadata": {
        "id": "nOjG8AMOfn-O"
      },
      "execution_count": null,
      "outputs": []
    },
    {
      "cell_type": "code",
      "source": [
        "train_images.shape"
      ],
      "metadata": {
        "colab": {
          "base_uri": "https://localhost:8080/"
        },
        "id": "jPEQWSVWhS1w",
        "outputId": "1db9bfcf-bada-4859-b2aa-44421bfd4be3"
      },
      "execution_count": 20,
      "outputs": [
        {
          "output_type": "execute_result",
          "data": {
            "text/plain": [
              "(60000, 28, 28)"
            ]
          },
          "metadata": {},
          "execution_count": 20
        }
      ]
    },
    {
      "cell_type": "markdown",
      "source": [
        "Displaying the few images in train_image"
      ],
      "metadata": {
        "id": "dGoUs2xhddMl"
      }
    },
    {
      "cell_type": "code",
      "source": [
        "class_names = ['T-shirt/top', 'Trouser', 'Pullover', 'Dress', 'Coat',\n",
        "               'Sandal', 'Shirt', 'Sneaker', 'Bag', 'Ankle boot']\n",
        "n_classes = 10\n",
        "plt.figure(figsize=(10,10))\n",
        "for i in range(25):\n",
        "    plt.subplot(5,5,i+1)\n",
        "    plt.xticks([])\n",
        "    plt.yticks([])\n",
        "    plt.grid(False)\n",
        "    plt.imshow(train_images[i],cmap=\"gray\")\n",
        "    # The CIFAR labels happen to be arrays, \n",
        "    # which is why you need the extra index\n",
        "    plt.xlabel(class_names[train_labels[i]])\n",
        "plt.show()"
      ],
      "metadata": {
        "colab": {
          "base_uri": "https://localhost:8080/",
          "height": 589
        },
        "id": "5JLmg0xzc8Ne",
        "outputId": "181ad498-b219-4b4f-a9be-af0d4e319a3b"
      },
      "execution_count": 21,
      "outputs": [
        {
          "output_type": "display_data",
          "data": {
            "text/plain": [
              "<Figure size 720x720 with 25 Axes>"
            ],
            "image/png": "[encoded data removed]"
          },
          "metadata": {}
        }
      ]
    },
    {
      "cell_type": "markdown",
      "source": [
        "## Initializing Convolutional layer, maxPooling layer"
      ],
      "metadata": {
        "id": "2ecS-RVAgPIV"
      }
    },
    {
      "cell_type": "code",
      "source": [
        "model = models.Sequential()\n",
        "\n",
        "model.add(layers.Conv2D(32, (3, 3), activation='relu', input_shape=(28,28,1)))\n",
        "model.add(layers.MaxPooling2D((2, 2)))\n",
        "\n",
        "model.add(layers.Conv2D(32, (3, 3), activation='relu'))\n",
        "model.add(layers.MaxPooling2D((2, 2)))\n",
        "\n",
        "model.add(layers.Conv2D(64, (3, 3), activation='relu'))\n",
        "#Flattening into 1D array\n",
        "model.add(layers.Flatten())\n",
        "model.add(layers.Dense(64, activation='relu'))\n",
        "model.add(layers.Dense(n_classes))"
      ],
      "metadata": {
        "id": "rUDg2JfrdRlN"
      },
      "execution_count": 23,
      "outputs": []
    },
    {
      "cell_type": "code",
      "source": [
        "model.summary()"
      ],
      "metadata": {
        "id": "QCVeGWEKf3zn",
        "colab": {
          "base_uri": "https://localhost:8080/"
        },
        "outputId": "78dcb75c-4e41-4601-cda5-a3ad87d03e79"
      },
      "execution_count": 24,
      "outputs": [
        {
          "output_type": "stream",
          "name": "stdout",
          "text": [
            "Model: \"sequential_1\"\n",
            "_________________________________________________________________\n",
            " Layer (type)                Output Shape              Param #   \n",
            "=================================================================\n",
            " conv2d_1 (Conv2D)           (None, 26, 26, 32)        320       \n",
            "                                                                 \n",
            " max_pooling2d (MaxPooling2D  (None, 13, 13, 32)       0         \n",
            " )                                                               \n",
            "                                                                 \n",
            " conv2d_2 (Conv2D)           (None, 11, 11, 32)        9248      \n",
            "                                                                 \n",
            " max_pooling2d_1 (MaxPooling  (None, 5, 5, 32)         0         \n",
            " 2D)                                                             \n",
            "                                                                 \n",
            " conv2d_3 (Conv2D)           (None, 3, 3, 64)          18496     \n",
            "                                                                 \n",
            " flatten (Flatten)           (None, 576)               0         \n",
            "                                                                 \n",
            " dense (Dense)               (None, 64)                36928     \n",
            "                                                                 \n",
            " dense_1 (Dense)             (None, 10)                650       \n",
            "                                                                 \n",
            "=================================================================\n",
            "Total params: 65,642\n",
            "Trainable params: 65,642\n",
            "Non-trainable params: 0\n",
            "_________________________________________________________________\n"
          ]
        }
      ]
    },
    {
      "cell_type": "markdown",
      "source": [
        "## Initialzing the optimizer with ( adam optimizer )"
      ],
      "metadata": {
        "id": "Cr8SbFiCjQJk"
      }
    },
    {
      "cell_type": "code",
      "source": [
        "model.compile(optimizer='adam',\n",
        "              loss=tf.keras.losses.SparseCategoricalCrossentropy(from_logits=True),\n",
        "              metrics=['accuracy'])\n",
        "\n",
        "history = model.fit(train_images, train_labels, epochs=20, \n",
        "                    validation_data=(test_images, test_labels))"
      ],
      "metadata": {
        "colab": {
          "base_uri": "https://localhost:8080/"
        },
        "id": "VqRbRLuHi2Ca",
        "outputId": "51401f20-831d-49e0-96a8-50d5250b5884"
      },
      "execution_count": 26,
      "outputs": [
        {
          "output_type": "stream",
          "name": "stdout",
          "text": [
            "Epoch 1/20\n",
            "1875/1875 [==============================] - 11s 6ms/step - loss: 0.1558 - accuracy: 0.9403 - val_loss: 0.3068 - val_accuracy: 0.9050\n",
            "Epoch 2/20\n",
            "1875/1875 [==============================] - 10s 5ms/step - loss: 0.1437 - accuracy: 0.9452 - val_loss: 0.3109 - val_accuracy: 0.9000\n",
            "Epoch 3/20\n",
            "1875/1875 [==============================] - 11s 6ms/step - loss: 0.1349 - accuracy: 0.9492 - val_loss: 0.3028 - val_accuracy: 0.9050\n",
            "Epoch 4/20\n",
            "1875/1875 [==============================] - 11s 6ms/step - loss: 0.1259 - accuracy: 0.9520 - val_loss: 0.3059 - val_accuracy: 0.9059\n",
            "Epoch 5/20\n",
            "1875/1875 [==============================] - 11s 6ms/step - loss: 0.1199 - accuracy: 0.9543 - val_loss: 0.3236 - val_accuracy: 0.9027\n",
            "Epoch 6/20\n",
            "1875/1875 [==============================] - 11s 6ms/step - loss: 0.1115 - accuracy: 0.9571 - val_loss: 0.3456 - val_accuracy: 0.9039\n",
            "Epoch 7/20\n",
            "1875/1875 [==============================] - 11s 6ms/step - loss: 0.1056 - accuracy: 0.9593 - val_loss: 0.3853 - val_accuracy: 0.8975\n",
            "Epoch 8/20\n",
            "1875/1875 [==============================] - 11s 6ms/step - loss: 0.1004 - accuracy: 0.9610 - val_loss: 0.3880 - val_accuracy: 0.8899\n",
            "Epoch 9/20\n",
            "1875/1875 [==============================] - 11s 6ms/step - loss: 0.0924 - accuracy: 0.9645 - val_loss: 0.4265 - val_accuracy: 0.9011\n",
            "Epoch 10/20\n",
            "1875/1875 [==============================] - 10s 5ms/step - loss: 0.0903 - accuracy: 0.9655 - val_loss: 0.4051 - val_accuracy: 0.9002\n",
            "Epoch 11/20\n",
            "1875/1875 [==============================] - 10s 6ms/step - loss: 0.0842 - accuracy: 0.9674 - val_loss: 0.4489 - val_accuracy: 0.9014\n",
            "Epoch 12/20\n",
            "1875/1875 [==============================] - 10s 5ms/step - loss: 0.0806 - accuracy: 0.9697 - val_loss: 0.4376 - val_accuracy: 0.9001\n",
            "Epoch 13/20\n",
            "1875/1875 [==============================] - 11s 6ms/step - loss: 0.0763 - accuracy: 0.9711 - val_loss: 0.4394 - val_accuracy: 0.9025\n",
            "Epoch 14/20\n",
            "1875/1875 [==============================] - 10s 5ms/step - loss: 0.0736 - accuracy: 0.9723 - val_loss: 0.4818 - val_accuracy: 0.9036\n",
            "Epoch 15/20\n",
            "1875/1875 [==============================] - 11s 6ms/step - loss: 0.0702 - accuracy: 0.9736 - val_loss: 0.5015 - val_accuracy: 0.9056\n",
            "Epoch 16/20\n",
            "1875/1875 [==============================] - 11s 6ms/step - loss: 0.0673 - accuracy: 0.9751 - val_loss: 0.5207 - val_accuracy: 0.8996\n",
            "Epoch 17/20\n",
            "1875/1875 [==============================] - 11s 6ms/step - loss: 0.0637 - accuracy: 0.9763 - val_loss: 0.5382 - val_accuracy: 0.8969\n",
            "Epoch 18/20\n",
            "1875/1875 [==============================] - 11s 6ms/step - loss: 0.0647 - accuracy: 0.9750 - val_loss: 0.5266 - val_accuracy: 0.9023\n",
            "Epoch 19/20\n",
            "1875/1875 [==============================] - 11s 6ms/step - loss: 0.0603 - accuracy: 0.9765 - val_loss: 0.5951 - val_accuracy: 0.8983\n",
            "Epoch 20/20\n",
            "1875/1875 [==============================] - 10s 6ms/step - loss: 0.0568 - accuracy: 0.9782 - val_loss: 0.5911 - val_accuracy: 0.9010\n"
          ]
        }
      ]
    },
    {
      "cell_type": "code",
      "source": [
        "plt.plot(history.history['accuracy'], label='accuracy')\n",
        "plt.plot(history.history['val_accuracy'], label = 'val_accuracy')\n",
        "plt.xlabel('Epoch')\n",
        "plt.ylabel('Accuracy')\n",
        "plt.ylim([0.5, 1])\n",
        "plt.legend(loc='lower right')\n",
        "\n",
        "test_loss, test_acc = model.evaluate(test_images,  test_labels, verbose=2)"
      ],
      "metadata": {
        "colab": {
          "base_uri": "https://localhost:8080/",
          "height": 301
        },
        "id": "5RC8ZuxXknLF",
        "outputId": "68cda19e-f835-4357-f4fe-7a8fa4faea16"
      },
      "execution_count": 27,
      "outputs": [
        {
          "output_type": "stream",
          "name": "stdout",
          "text": [
            "313/313 - 1s - loss: 0.5911 - accuracy: 0.9010 - 888ms/epoch - 3ms/step\n"
          ]
        },
        {
          "output_type": "display_data",
          "data": {
            "text/plain": [
              "<Figure size 432x288 with 1 Axes>"
            ],
            "image/png": "[encoded data removed]"
          },
          "metadata": {
            "needs_background": "light"
          }
        }
      ]
    },
    {
      "cell_type": "code",
      "source": [
        "pred = history.model.predict(test_images)\n",
        "pred_test_img = [np.argmax(pred[i]) for i in range(len(pred))]\n",
        "\n",
        "# for i in range(len(pred)):\n",
        "#   pred_test_img.append(np.argmax(pred[i]))"
      ],
      "metadata": {
        "id": "PAxESvYXsSdz"
      },
      "execution_count": 33,
      "outputs": []
    },
    {
      "cell_type": "code",
      "source": [
        "from sklearn.metrics import confusion_matrix"
      ],
      "metadata": {
        "id": "hEZM-G76pYdu"
      },
      "execution_count": 28,
      "outputs": []
    },
    {
      "cell_type": "code",
      "source": [
        "confusion_matrix(test_labels,pred_test_img)"
      ],
      "metadata": {
        "colab": {
          "base_uri": "https://localhost:8080/"
        },
        "id": "NIN05ZEorHjX",
        "outputId": "1ae1d0d1-997b-48df-c856-aef1a5a73eb1"
      },
      "execution_count": 44,
      "outputs": [
        {
          "output_type": "execute_result",
          "data": {
            "text/plain": [
              "array([[877,   0,  21,  15,   2,   1,  76,   0,   8,   0],\n",
              "       [  3, 978,   1,  13,   2,   0,   2,   0,   1,   0],\n",
              "       [ 19,   0, 882,   7,  42,   1,  48,   0,   0,   1],\n",
              "       [ 28,   5,  12, 898,  29,   0,  25,   1,   2,   0],\n",
              "       [  2,   2,  76,  29, 837,   1,  52,   0,   1,   0],\n",
              "       [  0,   0,   0,   1,   0, 990,   0,   6,   0,   3],\n",
              "       [130,   1,  92,  23,  64,   0, 686,   0,   4,   0],\n",
              "       [  1,   0,   0,   0,   0,  25,   0, 957,   0,  17],\n",
              "       [  7,   0,   5,   2,   5,   8,   8,   2, 962,   1],\n",
              "       [  1,   0,   0,   0,   0,  13,   0,  43,   0, 943]])"
            ]
          },
          "metadata": {},
          "execution_count": 44
        }
      ]
    },
    {
      "cell_type": "code",
      "source": [
        ""
      ],
      "metadata": {
        "id": "OtPLDO5isv8y"
      },
      "execution_count": 41,
      "outputs": []
    },
    {
      "cell_type": "code",
      "source": [
        ""
      ],
      "metadata": {
        "colab": {
          "base_uri": "https://localhost:8080/"
        },
        "id": "im_RPqfytHpm",
        "outputId": "8640f32e-a06f-43a0-a69c-de0ee3c00f2a"
      },
      "execution_count": 43,
      "outputs": [
        {
          "output_type": "execute_result",
          "data": {
            "text/plain": [
              "list"
            ]
          },
          "metadata": {},
          "execution_count": 43
        }
      ]
    },
    {
      "cell_type": "code",
      "source": [
        ""
      ],
      "metadata": {
        "id": "I-m5fPebtwWX"
      },
      "execution_count": null,
      "outputs": []
    }
  ],
  "metadata": {
    "accelerator": "GPU",
    "colab": {
      "name": "assignment10.ipynb",
      "provenance": []
    },
    "kernelspec": {
      "display_name": "Python 3",
      "name": "python3"
    },
    "language_info": {
      "name": "python"
    }
  },
  "nbformat": 4,
  "nbformat_minor": 0
}